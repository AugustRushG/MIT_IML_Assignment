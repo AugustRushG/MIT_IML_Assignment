{
 "cells": [
  {
   "attachments": {},
   "cell_type": "markdown",
   "id": "76ffa401",
   "metadata": {},
   "source": [
    "# Assignment 2: Classification and Evaluation (20 marks)\n",
    "\n",
    "Student Name: `Hao Xu`\n",
    "\n",
    "Student ID: `1224853`\n",
    "\n",
    "## General info\n",
    "\n",
    "<b>Due date</b>: **9 am on Tuesday 11th of April** ~~5 pm on Friday 7th of April~~\n",
    "\n",
    "<b>Submission method</b>: Canvas submission\n",
    "\n",
    "<b>Submission materials</b>: completed copy of this iPython notebook\n",
    "\n",
    "<b>Late submissions</b>: -10% per day up to 5 days (both weekdays and weekends count)\n",
    "<ul>\n",
    "    <li>one day late, -2;</li>\n",
    "    <li>two days late, -4;</li>\n",
    "    <li>three days late, -6;</li>\n",
    "    <li>four days late, -8;</li>\n",
    "    <li>five days late, -10;</li>\n",
    "</ul>\n",
    "\n",
    "<b>Marks</b>: This assignment will be marked out of 20, and make up 20% of your overall mark for this subject.\n",
    "\n",
    "<b>Materials</b>: See <a href=\"https://canvas.lms.unimelb.edu.au/courses/151131/pages/python-and-jupyter-notebooks?module_item_id=4532241\">Using Jupyter Notebook and Python page</a> on Canvas (under Modules> Coding Resources) for information on the basic setup required for this class, including an iPython notebook viewer and the python packages `numpy`, `pandas`, `matplotlib` and `sklearn`. You can use any Python built-in packages, but do not use any other 3rd party packages; if your iPython notebook doesn't run on the marker's machine, you will lose marks. <b> You should use Python 3</b>.  \n",
    "\n",
    "<b>Evaluation</b>: Your iPython notebook should run end-to-end without any errors in a reasonable amount of time, and you must follow all instructions provided below, including specific implementation requirements and instructions for what needs to be printed (please avoid printing output we don't ask for). You should edit the sections below where requested, but leave the rest of the code as is. You should leave the output from running your code in the iPython notebook you submit, to assist with marking. The amount each section is worth is given in parenthesis after the instructions. \n",
    "\n",
    "\n",
    "<b>Updates</b>: Any major changes to the assignment will be announced via Canvas. Minor changes and clarifications will be announced on Canvas>Assignments>Assignmnet1; we recommend you check it regularly.\n",
    "\n",
    "<b>Academic misconduct</b>: This assignment is an individual task, and so reuse of code or other instances of clear influence will be considered cheating. Please check the <a href=\"https://canvas.lms.unimelb.edu.au/courses/124196/modules#module_662096\">CIS Academic Honesty training</a> for more information. We will be checking submissions for originality and will invoke the University’s <a href=\"http://academichonesty.unimelb.edu.au/policy.html\">Academic Misconduct policy</a> where collusion or plagiarism are deemed to have taken place. Content produced by an AI (including, but not limited to ChatGPT) is not your own work, and submitting such content will be treated as a case of academic misconduct, in line with the <a href=\"https://academicintegrity.unimelb.edu.au/plagiarism-and-collusion/artificial-intelligence-tools-and-technologies\"> University's policy</a>.\n",
    "\n",
    "**IMPORTANT**\n",
    "\n",
    "Please carefully read and fill out the <b>Authorship Declaration</b> form at the bottom of the page. Failure to fill out this form results in the following deductions: \n",
    "<UL TYPE=”square”>\n",
    "<LI>Missing Authorship Declaration at the bottom of the page, -2.0\n",
    "<LI>Incomplete or unsigned Authorship Declaration at the bottom of the page, -1.0\n",
    "</UL>\n"
   ]
  },
  {
   "cell_type": "markdown",
   "id": "a66d47f4",
   "metadata": {},
   "source": [
    "## Overview:\n",
    "For this assignment, you will work with a provided dataset to train and utilize multiple classifiers to analyze different versions of the dataset. In addition to implementing these classifiers, you will also explore various evaluation paradigms and analyze the impact of multiple parameters on the performance of the classifiers. Finally, you will be expected to answer some conceptual questions based on your observations and analysis.\n",
    "\n",
    "## Dataset:\n",
    "In this assignment, you will work with multiple versions of one dataset called \"Amphibians.\" It is adopted from a famous public dataset, and you can find more details about it <a href= \"https://archive.ics.uci.edu/ml/datasets/Amphibians#\"> here </a>.  The dataset includes information about five groups of amphibians in Poland: \"Green frogs,\" \"Brown frogs,\" \"Common toad,\" \"Tree frog,\" and \"Fire-bellied toad.\" The dataset comprises 14 attributes and one class. Some of these attributes are numeric, some are categorical, and some are ordinal.\n",
    "\n",
    "You can find details about all the features in the dataset in the file \"README.txt\"."
   ]
  },
  {
   "cell_type": "code",
   "execution_count": 60,
   "id": "d2b26164",
   "metadata": {},
   "outputs": [],
   "source": [
    "import pandas as pd\n",
    "import numpy as np\n",
    "import matplotlib.pyplot as plt"
   ]
  },
  {
   "cell_type": "code",
   "execution_count": 61,
   "id": "afa339cc",
   "metadata": {},
   "outputs": [],
   "source": [
    "from sklearn.model_selection import train_test_split\n",
    "from sklearn.dummy import DummyClassifier\n",
    "from sklearn.tree import DecisionTreeClassifier\n",
    "from sklearn.naive_bayes import GaussianNB, MultinomialNB, BernoulliNB\n",
    "from sklearn.neighbors import KNeighborsClassifier\n",
    "from sklearn.metrics import accuracy_score"
   ]
  },
  {
   "cell_type": "code",
   "execution_count": 62,
   "id": "4d90b111-3c9f-4b4c-a0a6-413000636fc6",
   "metadata": {},
   "outputs": [],
   "source": [
    "import warnings\n",
    "\n",
    "# ignore future warnings \n",
    "warnings.simplefilter(action='ignore', category=FutureWarning)"
   ]
  },
  {
   "cell_type": "markdown",
   "id": "89a1c496",
   "metadata": {},
   "source": [
    "## Question 1 [5 marks]\n",
    "**Q1.1 A.** Read the dataset \"amphibians1.csv\" dataset into a pandas DataFrame called `data1`. Create a function called `encode` that takes in the features of the dataset as a pandas DataFrame and uses one-hot encoding to convert all nominal (and ordinal) attributes to numeric. You can achieve this by either using `get_dummies()` from the pandas library or `OneHotEncoder()` from the scikit-learn library. **[1 mark]**\n",
    "\n",
    "**B.** For 10 rounds, divide the encoded `data1` into 70% train, 30% test (use the `random_state = 90049`). Train and test the following models. Use the default hyper-parameters for all models: **[1 mark]**\n",
    "- Zero-R\n",
    "- Gaussian Naive Bayes\n",
    "- Multinomial Naive Bayes\n",
    "- Bernoulli Naive Bayes model\n",
    "\n",
    "Report the average accuracy over the 10 runs."
   ]
  },
  {
   "cell_type": "code",
   "execution_count": 63,
   "id": "9c33a9d2",
   "metadata": {},
   "outputs": [],
   "source": [
    "data1 = pd.read_csv(\"amphibians1.csv\")\n",
    "\n",
    "y1 = data1.iloc[:, -1]\n",
    "X1 = data1.iloc[:, :-1]\n"
   ]
  },
  {
   "cell_type": "code",
   "execution_count": 64,
   "id": "588459ef-a861-4793-8c92-2f57bab4bb10",
   "metadata": {},
   "outputs": [],
   "source": [
    "# preprocessing \n",
    "def encode(X):\n",
    "    # your code here\n",
    "    X = pd.get_dummies(X)\n",
    "    \n",
    "    return X"
   ]
  },
  {
   "cell_type": "code",
   "execution_count": 65,
   "id": "07e3d435-af7a-4bd4-b481-f22b1c7550a2",
   "metadata": {},
   "outputs": [
    {
     "name": "stdout",
     "output_type": "stream",
     "text": [
      "Accuracy of ZeroR: 0.59\n",
      "Accuracy of GNB: 0.42\n",
      "Accuracy of MNB: 0.33\n",
      "Accuracy of BNB: 0.57\n"
     ]
    }
   ],
   "source": [
    "ZeroR_Acc_1 = []\n",
    "GNB_Acc_1 = []\n",
    "MNB_Acc_1 = []\n",
    "BNB_Acc_1 = []\n",
    "\n",
    "# your code here\n",
    "X1 = encode(X1)\n",
    "clf = DummyClassifier()\n",
    "gnb = GaussianNB()\n",
    "mnb = MultinomialNB()\n",
    "bnb = BernoulliNB()\n",
    "\n",
    "data1 = pd.concat([X1,y1],axis=1)\n",
    "\n",
    "for i in range(10):\n",
    "    train_df, test_df = train_test_split(data1,test_size=0.3,random_state=i)\n",
    "    X_train, y_train = train_df.iloc[:,:-1],train_df.iloc[:,-1]\n",
    "    X_test, y_test = test_df.iloc[:,:-1], test_df.iloc[:,-1]\n",
    "\n",
    "    clf.fit(X_train,y_train)\n",
    "    gnb.fit(X_train,y_train)\n",
    "    mnb.fit(X_train,y_train)\n",
    "    bnb.fit(X_train,y_train)\n",
    "\n",
    "    y_pred = clf.predict(X_test)\n",
    "    y_pred_gnb = gnb.predict(X_test)\n",
    "    y_pred_mnb = mnb.predict(X_test)\n",
    "    y_pred_bnb = bnb.predict(X_test)\n",
    "\n",
    "\n",
    "    ZeroR_Acc_1.append(accuracy_score(y_test,y_pred))\n",
    "    GNB_Acc_1.append(accuracy_score(y_test,y_pred_gnb))\n",
    "    MNB_Acc_1.append(accuracy_score(y_test,y_pred_mnb))\n",
    "    BNB_Acc_1.append(accuracy_score(y_test,y_pred_bnb))\n",
    "    \n",
    "    \n",
    "\n",
    "print(\"Accuracy of ZeroR:\", np.mean(ZeroR_Acc_1).round(2))\n",
    "print(\"Accuracy of GNB:\", np.mean(GNB_Acc_1).round(2))\n",
    "print(\"Accuracy of MNB:\", np.mean(MNB_Acc_1).round(2))\n",
    "print(\"Accuracy of BNB:\", np.mean(BNB_Acc_1).round(2))\n"
   ]
  },
  {
   "cell_type": "markdown",
   "id": "b8c394c5",
   "metadata": {},
   "source": [
    "**Q1.2** After comparing the performance of the different models on the classification task, please comment on any differences or lack of differences you observe between the models. **[3 marks]**</br>\n",
    "*NOTE: You may need to compare other performance metrics of these models, such as precision and recall of each class label, to gain a better understanding of their performance. *"
   ]
  },
  {
   "attachments": {},
   "cell_type": "markdown",
   "id": "5f3936c2-b548-4825-8028-c5b3f3800b63",
   "metadata": {},
   "source": [
    "\n",
    "For the ZeroR model, it simply ignores all the input features and only looks at the target variable to make its prediction. The most frequent class will be the predicted label. It performs well when the dataset is highly imbalanced or if the features are not informative. In this case, the dataset is imbalanced, which is why it performs better than other models.\n",
    "\n",
    "For the Gaussian Naive Bayes model, the assumption is made that the features follow a Gaussian distribution with a mean and standard deviation for each class. It calculates the likelihood of observing the features given the class and the prior probability of the class. The class with the highest posterior probability is the predicted class. In this case, it performs worse than the ZeroR, possibly because the features of the data do not have a strong correlation or the distribution of the features is not well-suited for the Naive Bayes assumptions.\n",
    "\n",
    "Multinomial Naive Bayes is also a variant of Naive Bayes. It calculates the probability of each class given the input features and selects the class with the highest probability as the prediction. It performs worse than the ZeroR, probably because the dataset has a class imbalance or the features are not strongly correlated, which causes incorrectly assigned probabilities to the different classes.\n",
    "\n",
    "For Bernoulli Naive Bayes, it assumes that all binary features are conditionally independent given the class label, which means the presence or absence of one feature does not affect the probability of another feature being present or absent. It performs better than GNB and MNB, probably because it is designed to work with binary input features, whereas GNB and MNB are designed for continuous and discrete input features.\n"
   ]
  },
  {
   "cell_type": "markdown",
   "id": "21ec6a7b",
   "metadata": {},
   "source": [
    "## Question 2 [5 marks]\n",
    "\n",
    "**Q2.1.** Divide the `data1` into 70% train and 30% test splits for 10 rounds, using `random_state=90049`. Then, train and test **K-Nearest Neighbor algorithms (with K values of 1, 5, and 20)**, using Euclidean distance as the distance metric and maximum vote (no weighting) to determine the label. Finally, report the average accuracy of the KNN models over the 10 runs. **[1 mark]**"
   ]
  },
  {
   "cell_type": "code",
   "execution_count": 66,
   "id": "1ef637cf",
   "metadata": {},
   "outputs": [
    {
     "name": "stdout",
     "output_type": "stream",
     "text": [
      "Accuracy of KNN(1): 0.59\n",
      "Accuracy of KNN(5): 0.61\n",
      "Accuracy of KNN(20): 0.63\n"
     ]
    }
   ],
   "source": [
    "KNN1_Acc_1 = []\n",
    "KNN5_Acc_1 = []\n",
    "KNN20_Acc_1 = []\n",
    "\n",
    "# your code here\n",
    "knn1 = KNeighborsClassifier(n_neighbors=1, metric='euclidean')\n",
    "knn5 = KNeighborsClassifier(n_neighbors=5, metric='euclidean')\n",
    "knn20 = KNeighborsClassifier(n_neighbors=20, metric='euclidean')\n",
    "for i in range(10):\n",
    "    train_df, test_df = train_test_split(data1,test_size=0.3,random_state=i)\n",
    "    X_train, y_train = train_df.iloc[:,:-1],train_df.iloc[:,-1]\n",
    "    X_test, y_test = test_df.iloc[:,:-1], test_df.iloc[:,-1]\n",
    "\n",
    "    knn1.fit(X_train,y_train)\n",
    "    knn5.fit(X_train,y_train)\n",
    "    knn20.fit(X_train,y_train)\n",
    "    y_pred_knn1 = knn1.predict(X_test)\n",
    "    y_pred_knn5 = knn5.predict(X_test)\n",
    "    y_pred_knn20 = knn20.predict(X_test)\n",
    "\n",
    "    KNN1_Acc_1.append(accuracy_score(y_test,y_pred_knn1))\n",
    "    KNN5_Acc_1.append(accuracy_score(y_test,y_pred_knn5))\n",
    "    KNN20_Acc_1.append(accuracy_score(y_test,y_pred_knn20))\n",
    "\n",
    "\n",
    "\n",
    "\n",
    "            \n",
    "print(\"Accuracy of KNN(1):\", np.mean(KNN1_Acc_1).round(2))\n",
    "print(\"Accuracy of KNN(5):\", np.mean(KNN5_Acc_1).round(2))\n",
    "print(\"Accuracy of KNN(20):\", np.mean(KNN20_Acc_1).round(2))\n"
   ]
  },
  {
   "cell_type": "markdown",
   "id": "7de4822d",
   "metadata": {},
   "source": [
    "**Q2.2.A.** Create a function called `normalise` that takes the features of the dataset as a pandas DataFrame and scales all numeric attributes to the range of 0-1. You can either use `MinMaxScaler` from the `sklearn.preprocessing` library or implement the normalization step yourself.\n",
    "\n",
    "**B.** Divide the normalised \"data1\" into 70% train and 30% test splits using `random_state=90049`, and run the KNN models (k=1,5 and 20) for 10 rounds. Report the average accuracy of your KNN models over these 10 runs. **[1 mark]**"
   ]
  },
  {
   "cell_type": "code",
   "execution_count": 67,
   "id": "ed8e87f9-76bf-44e2-a7bc-305bdcd1616d",
   "metadata": {},
   "outputs": [],
   "source": [
    "# preprocessing \n",
    "from sklearn.preprocessing import MinMaxScaler\n",
    "def normalise(X):\n",
    "    # your code here\n",
    "    scaler = MinMaxScaler()\n",
    "    X = scaler.fit_transform(X)\n",
    "    X = pd.DataFrame(X)\n",
    "    return X"
   ]
  },
  {
   "cell_type": "code",
   "execution_count": 68,
   "id": "0859a139",
   "metadata": {},
   "outputs": [
    {
     "name": "stdout",
     "output_type": "stream",
     "text": [
      "Accuracy of KNN(1): 0.56\n",
      "Accuracy of KNN(5): 0.62\n",
      "Accuracy of KNN(20): 0.62\n"
     ]
    }
   ],
   "source": [
    "######################################## POSSIBLE SOLUTION #############################################\n",
    "\n",
    "KNN1_Acc_2 = []\n",
    "KNN5_Acc_2 = []\n",
    "KNN20_Acc_2 = []\n",
    "\n",
    "# your code here\n",
    "X2 = data1.iloc[:,:-1]\n",
    "X2 = normalise(X2)\n",
    "data1 = pd.concat([X2,y1],axis=1)\n",
    "\n",
    "for i in range(10):\n",
    "    train_df, test_df = train_test_split(data1,test_size=0.3,random_state=i)\n",
    "    X_train, y_train = train_df.iloc[:,:-1],train_df.iloc[:,-1]\n",
    "    X_test, y_test = test_df.iloc[:,:-1], test_df.iloc[:,-1]\n",
    "\n",
    "    knn1.fit(X_train,y_train)\n",
    "    knn5.fit(X_train,y_train)\n",
    "    knn20.fit(X_train,y_train)\n",
    "    y_pred_knn1 = knn1.predict(X_test)\n",
    "    y_pred_knn5 = knn5.predict(X_test)\n",
    "    y_pred_knn20 = knn20.predict(X_test)\n",
    "\n",
    "    KNN1_Acc_2.append(accuracy_score(y_test,y_pred_knn1))\n",
    "    KNN5_Acc_2.append(accuracy_score(y_test,y_pred_knn5))\n",
    "    KNN20_Acc_2.append(accuracy_score(y_test,y_pred_knn20))\n",
    "\n",
    "\n",
    "            \n",
    "print(\"Accuracy of KNN(1):\", np.mean(KNN1_Acc_2).round(2))\n",
    "print(\"Accuracy of KNN(5):\", np.mean(KNN5_Acc_2).round(2))\n",
    "print(\"Accuracy of KNN(20):\", np.mean(KNN20_Acc_2).round(2))\n"
   ]
  },
  {
   "cell_type": "markdown",
   "id": "8357cd59",
   "metadata": {},
   "source": [
    "**Q2.3** Compare the results of the KNN models (for each value of K) in Q2.1 and Q2.2, and discuss any differences you observe. Did the preprocessing step in Q2.2 improve the performance of the KNN models? Why or why not? **[3 marks]**"
   ]
  },
  {
   "attachments": {},
   "cell_type": "markdown",
   "id": "d6dc7597",
   "metadata": {},
   "source": [
    "After normalizing all the features of the dataset, the test accuracy for all three different K values changed.\n",
    "\n",
    "When k=1, the accuracy actually decreased. This may be caused by several reasons. Normalization can result in loss of information, especially when the range of the features is very small. This can lead to KNN failing to identify important features that can be used to differentiate between the classes. Additionally, normalization may reduce the differences between the distances of the neighbors, leading to ties in the distance. This can result in KNN making incorrect predictions, especially when there are multiple classes with equal distances to the query point.\n",
    "\n",
    "When k=5, the accuracy increased a bit. This is because normalization scales the data to a common range and makes the distance between the data points more meaningful. However, the increase is likely also caused by other factors such as the number of neighbors chosen and the distance metric used.\n",
    "\n",
    "When k=20, the accuracy also decreased a bit. Just like when k=1, this may be caused by loss of information due to normalization. When all features are normalized, the distances between the query point and the training data may not reflect the actual differences in the features. Therefore, the nearest neighbors may not be truly representative of the query point."
   ]
  },
  {
   "cell_type": "markdown",
   "id": "6533050f",
   "metadata": {},
   "source": [
    "## Question 3 [5 marks]\n",
    "\n",
    "**Q3.1.** Read the \"amphibians2.csv\" into `data2` and  \"amphibians1.csv\" into `data1_2`. Observe any differences in the values of the feature \"SR\" between these two datasets, and explain why you think these changes were made (provide your hypothesis). Use diagrams such as histograms or boxplots to check the distribution of the feature 'SR' before and after the change. **[2 marks]**"
   ]
  },
  {
   "cell_type": "code",
   "execution_count": 69,
   "id": "cf383bfa",
   "metadata": {},
   "outputs": [],
   "source": [
    "data2 = pd.read_csv(\"amphibians2.csv\")\n",
    "data1_2 = pd.read_csv(\"amphibians1.csv\")"
   ]
  },
  {
   "cell_type": "code",
   "execution_count": 70,
   "id": "93740fd5-3ec4-4b50-8d0c-def8367fa0ed",
   "metadata": {},
   "outputs": [
    {
     "data": {
      "image/png": "[encoded data removed]",
      "text/plain": [
       "<Figure size 1000x500 with 2 Axes>"
      ]
     },
     "metadata": {},
     "output_type": "display_data"
    }
   ],
   "source": [
    "# your code here\n",
    "fig, (ax1, ax2) = plt.subplots(1, 2, figsize=(10, 5))\n",
    "sr_data2 = data2.iloc[:,0]\n",
    "sr_data1_2 = data1_2.iloc[:,0]\n",
    "\n",
    "ax1.boxplot(sr_data1_2)\n",
    "ax1.set_title(\"Boxplot data1_2\")\n",
    "ax1.set_xticklabels(['Data 1'])\n",
    "\n",
    "ax2.boxplot(sr_data2)\n",
    "ax2.set_title(\"Boxplot data2\")\n",
    "ax2.set_xticklabels(['Data 2'])\n",
    "\n",
    "plt.show()"
   ]
  },
  {
   "attachments": {},
   "cell_type": "markdown",
   "id": "76bfddfd-cc6b-47d7-9d26-a3d699ac5d10",
   "metadata": {},
   "source": [
    "The difference in the distribution of SR between data1 and data2 is quite significant. Firstly, in the boxplot graph, the box represents the range between the first quartile and the third quartile. The line inside the box represents the median. As shown on the graph, the box for data2 is larger, which means the middle 50% of the data is wider. This suggests that the data is more spread out, indicating higher variance. The line also gets longer, indicating that the data is more spread out around the median value.\n",
    "\n",
    "Increasing the distribution of feature values can help to reduce the impact of outliers and noise in the data, which can improve the performance of models. Also, when feature values are not distributed, models can become overfit to the training data. By increasing the distribution of feature values, it can reduce the likelihood of overfitting and improve the generalization performance of the model."
   ]
  },
  {
   "cell_type": "markdown",
   "id": "ec583024",
   "metadata": {},
   "source": [
    "**Q3.2** \n",
    "For 10 rounds plit the `data2` and `data1_2` dataset into 70% training and 30% testing sets using random_state = 90049. Train and test two decision tree classifier with all default hyper-parameters: one with `data1_2` and one with `data2`. Calculate and report the average accuracy of both models for 10 runs. **[1 mark]**"
   ]
  },
  {
   "cell_type": "code",
   "execution_count": 71,
   "id": "fca15dcd",
   "metadata": {},
   "outputs": [],
   "source": [
    "y1_2 = data1_2.iloc[:, -1]\n",
    "X1_2 =  data1_2.iloc[:, :-1]\n",
    "\n",
    "y2 = data2.iloc[:, -1]\n",
    "X2 = data2.iloc[:, :-1]\n"
   ]
  },
  {
   "cell_type": "code",
   "execution_count": 79,
   "id": "18064b7e-be1e-40ba-9197-100b8c236ce9",
   "metadata": {},
   "outputs": [
    {
     "name": "stdout",
     "output_type": "stream",
     "text": [
      "Accuracy of Decision Tree \tdata1_2: 0.54 \tdata2: 0.53\n"
     ]
    }
   ],
   "source": [
    "DT_Acc_1_2 = []\n",
    "DT_Acc_2 = []\n",
    "\n",
    "# your code here\n",
    "dt = DecisionTreeClassifier()\n",
    "dt2 = DecisionTreeClassifier()\n",
    "\n",
    "\n",
    "for i in range (10):\n",
    "    train_df_1, test_df_1 = train_test_split(data1_2,test_size=0.3,random_state=i)\n",
    "    train_df_2, test_df_2 = train_test_split(data2,test_size=0.3,random_state=i)\n",
    "\n",
    "    X_train, y_train = train_df_1.iloc[:,:-1],train_df_1.iloc[:,-1]\n",
    "    X_test, y_test = test_df_1.iloc[:,:-1], test_df_1.iloc[:,-1]\n",
    "    \n",
    "    X_train_2, y_train_2 = train_df_2.iloc[:,:-1], train_df_2.iloc[:,-1]\n",
    "    X_test_2, y_test_2 = test_df_2.iloc[:,:-1], test_df_2.iloc[:,-1]\n",
    "\n",
    "    dt.fit(X_train,y_train)\n",
    "    dt2.fit(X_train_2,y_train_2)\n",
    "\n",
    "    y_pred = dt.predict(X_test)\n",
    "    y_pred_2 = dt2.predict(X_test_2)\n",
    "\n",
    "    DT_Acc_1_2.append(accuracy_score(y_test,y_pred))\n",
    "    DT_Acc_2.append(accuracy_score(y_test_2,y_pred_2))\n",
    "\n",
    "\n",
    "\n",
    "print(\"Accuracy of Decision Tree \\tdata1_2:\", np.mean(DT_Acc_1_2).round(2),\"\\tdata2:\", np.mean(DT_Acc_2).round(2))"
   ]
  },
  {
   "cell_type": "markdown",
   "id": "f82dd7fb",
   "metadata": {},
   "source": [
    "**Q3.3** Compare and analyze the performance of the decision tree classifier on `data1_2` and `data2`. Discuss any differences or similarities that you observe in the performance of these models. Does the change made to the dataset improve the performance of the model? Explain why or why not and elaborate on your hypothesis from Q3.1. **[2 marks]** </br>*NOTE:  You may need to compare other performance metrics of these models, such as precision and recall of each class label, to gain a better understanding of their performance. *"
   ]
  },
  {
   "attachments": {},
   "cell_type": "markdown",
   "id": "8b0e6985",
   "metadata": {},
   "source": [
    "After applying changes to the dataset, the performance of the model did not improve. This may be due to a lack of sufficient feature distribution. While increasing the distribution of features can generally improve model accuracy, in this case, only one feature was further distributed.\n",
    "\n",
    "In the decision tree model, when a feature is more distributed, it means that the values of that feature are spread out more evenly across the dataset. This can lead to the creation of more splits in the decision tree, resulting in a more complex model.\n",
    "\n",
    "A more complex model is more likely to capture noise and outliers in the training data, leading to overfitting of the training data and lower accuracy on the test data."
   ]
  },
  {
   "cell_type": "markdown",
   "id": "dc2419db",
   "metadata": {},
   "source": [
    "## Question 4\n",
    "\n",
    "**Q4.1** Read the \"amphibians3.csv\" into data3. Use histograms to compare the distribution of class labels between `data1` and `data3`. Observe the changes on the distribution of the class labels and explain in your own words why you think these changes have been made.**[2 marks]**"
   ]
  },
  {
   "cell_type": "code",
   "execution_count": 91,
   "id": "8ad0ce1b",
   "metadata": {},
   "outputs": [
    {
     "data": {
      "image/png": "[encoded data removed]",
      "text/plain": [
       "<Figure size 1500x500 with 2 Axes>"
      ]
     },
     "metadata": {},
     "output_type": "display_data"
    }
   ],
   "source": [
    "data3 = pd.read_csv(\"amphibians3.csv\")\n",
    "\n",
    "# your code here\n",
    "fig, (ax1, ax2) = plt.subplots(1,2, figsize=(15,5))\n",
    "\n",
    "\n",
    "ax1.hist(data1_2.iloc[:,-1])\n",
    "ax1.set_title(\"Data 1\")\n",
    "\n",
    "ax2.hist(data3.iloc[:,-1])\n",
    "ax2.set_title(\"Data 3\")\n",
    "\n",
    "plt.show()\n",
    "\n"
   ]
  },
  {
   "attachments": {},
   "cell_type": "markdown",
   "id": "04e229cb",
   "metadata": {},
   "source": [
    "The class labels in data 3 are much more distributed than in data 1. By making labels more distributed, it can help balance the dataset, which can improve the model's performance. Imbalanced datasets can cause the model to be biased towards the majority class, leading to low accuracy on the minority class, especially with the ZeroR model. By making the labels more distributed, the model can benefit from more balanced data and avoid being overly biased towards the majority class."
   ]
  },
  {
   "cell_type": "markdown",
   "id": "1f81f752",
   "metadata": {},
   "source": [
    "**Q4.2** Use the same encoding technique as used in Q1.1 to encode the `data3` dataset and apply the same normalization technique as used in Q2.1 to normalise the data. For 10 rounds, split the encoded and normalized data3 into 70% training and 30% testing sets, using `random_state = 90049`. Train and test the following models using `data3`: **[1 mark]**\n",
    "- Zero-R\n",
    "- K-Nearest Neighbour (K = 1, 5 and 20) \n",
    "\n",
    "Calculate the average accuracy of the models for 10 runs and report the results.\n"
   ]
  },
  {
   "cell_type": "code",
   "execution_count": 92,
   "id": "b9e5ba46",
   "metadata": {},
   "outputs": [],
   "source": [
    "y3 = data3.iloc[:, -1]\n",
    "X3 = data3.iloc[:, :-1]"
   ]
  },
  {
   "cell_type": "code",
   "execution_count": 94,
   "id": "5b9fad1b-d2fc-4adc-818b-9cee1c204bc7",
   "metadata": {},
   "outputs": [
    {
     "name": "stdout",
     "output_type": "stream",
     "text": [
      "Accuracy of ZeroR: \tdata1: 0.59 \tdata3: 0.14\n",
      "Accuracy of KNN(1): \tdata1: 0.56 \tdata3: 0.75\n",
      "Accuracy of KNN(5): \tdata1: 0.62 \tdata3: 0.68\n",
      "Accuracy of KNN(20): \tdata1: 0.62 \tdata3: 0.48\n"
     ]
    }
   ],
   "source": [
    "ZeroR_Acc_3 = []\n",
    "KNN1_Acc_3 = []\n",
    "KNN5_Acc_3 = []\n",
    "KNN20_Acc_3 = []\n",
    "\n",
    "# your code here\n",
    "X3 = encode(X3)\n",
    "X3 = normalise(X3)\n",
    "\n",
    "data3 = pd.concat([X3,y3],axis=1)\n",
    "\n",
    "for i in range (10):\n",
    "    train_df, test_df = train_test_split(data3,test_size = 0.3,random_state=i)\n",
    "    X_train, y_train = train_df.iloc[:,:-1], train_df.iloc[:,-1]\n",
    "    X_test, y_test = test_df.iloc[:,:-1], test_df.iloc[:,-1]\n",
    "\n",
    "    clf.fit(X_train,y_train)\n",
    "    knn1.fit(X_train,y_train)\n",
    "    knn5.fit(X_train,y_train)\n",
    "    knn20.fit(X_train,y_train)\n",
    "\n",
    "    y_pred_zeroR = clf.predict(X_test)\n",
    "    y_pred_knn1 = knn1.predict(X_test)\n",
    "    y_pred_knn5 = knn5.predict(X_test)\n",
    "    y_pred_knn20 = knn20.predict(X_test)\n",
    "\n",
    "    ZeroR_Acc_3.append(accuracy_score(y_test,y_pred_zeroR))\n",
    "    KNN1_Acc_3.append(accuracy_score(y_test,y_pred_knn1))\n",
    "    KNN5_Acc_3.append(accuracy_score(y_test,y_pred_knn5))\n",
    "    KNN20_Acc_3.append(accuracy_score(y_test,y_pred_knn20))\n",
    "\n",
    "\n",
    "\n",
    "\n",
    "\n",
    "print(\"Accuracy of ZeroR: \\tdata1:\", np.mean(ZeroR_Acc_1).round(2),\"\\tdata3:\",np.mean(ZeroR_Acc_3).round(2))\n",
    "print(\"Accuracy of KNN(1): \\tdata1:\", np.mean(KNN1_Acc_2).round(2),\"\\tdata3:\", np.mean(KNN1_Acc_3).round(2))\n",
    "print(\"Accuracy of KNN(5): \\tdata1:\", np.mean(KNN5_Acc_2).round(2),\"\\tdata3:\", np.mean(KNN5_Acc_3).round(2))\n",
    "print(\"Accuracy of KNN(20): \\tdata1:\", np.mean(KNN20_Acc_2).round(2),\"\\tdata3:\", np.mean(KNN20_Acc_3).round(2))"
   ]
  },
  {
   "cell_type": "markdown",
   "id": "c4249859",
   "metadata": {},
   "source": [
    "**Q4.3** Discuss any differences you observe between the results of these KNN classifiers on data1 (Q2.2) and data3.  **[2 marks]** </br>*NOTE:  You may need to compare other performance metrics of these models, such as precision and recall of each class label, to gain a better understanding of their performance.* "
   ]
  },
  {
   "attachments": {},
   "cell_type": "markdown",
   "id": "7067969a",
   "metadata": {},
   "source": [
    "The accuracy of ZeroR for data3 is much lower than for data1, simply because the ZeroR model looks at the majority class and doesn't take features into consideration. Therefore, when the labels are more distributed, the accuracy will be lower, as evidenced by the comparison between data3 and data1.\n",
    "\n",
    "For KNN(1), the accuracy is also higher when the labels in the dataset are more evenly distributed. Each test point is likely to have neighbors with a mix of different labels. As a result, the majority label among the k nearest neighbors will be less biased and more likely to be the correct label for the test point.\n",
    "\n",
    "For KNN(5), the accuracy also increases because it relies on the majority of the nearest neighbors to make predictions. When labels are more distributed, this means there is less dominance of one label over the others. Using a larger k value, the model takes into account more neighbors and therefore achieves better accuracy.\n",
    "\n",
    "For KNN(20), the decrease in accuracy is not necessarily because it considers more neighbors, but because it may start to overfit the data when the labels are more evenly distributed. In other words, when the data is more balanced, it is harder to find a clear boundary between classes, and using a larger k value may cause the model to include more irrelevant points in the decision-making process, leading to a decrease in accuracy."
   ]
  },
  {
   "attachments": {},
   "cell_type": "markdown",
   "id": "55940e72-3414-4dab-be69-96a579354617",
   "metadata": {},
   "source": [
    "# Authorship Declaration:\n",
    "\n",
    "   (1) I certify that the program contained in this submission is completely\n",
    "   my own individual work, except where explicitly noted by comments that\n",
    "   provide details otherwise.  I understand that work that has been developed\n",
    "   by another student, or by me in collaboration with other students,\n",
    "   or by non-students as a result of request, solicitation, or payment,\n",
    "   may not be submitted for assessment in this subject.  I understand that\n",
    "   submitting for assessment work developed by or in collaboration with\n",
    "   other students or non-students constitutes Academic Misconduct, and\n",
    "   may be penalized by mark deductions, or by other penalties determined\n",
    "   via the University of Melbourne Academic Honesty Policy, as described\n",
    "   at https://academicintegrity.unimelb.edu.au.\n",
    "\n",
    "   (2) I also certify that I have not provided a copy of this work in either\n",
    "   softcopy or hardcopy or any other form to any other student, and nor will\n",
    "   I do so until after the marks are released. I understand that providing\n",
    "   my work to other students, regardless of my intention or any undertakings\n",
    "   made to me by that other student, is also Academic Misconduct.\n",
    "\n",
    "   (3) I further understand that providing a copy of the assignment\n",
    "   specification to any form of code authoring or assignment tutoring\n",
    "   service, or drawing the attention of others to such services and code\n",
    "   that may have been made available via such a service, may be regarded\n",
    "   as Student General Misconduct (interfering with the teaching activities\n",
    "   of the University and/or inciting others to commit Academic Misconduct).\n",
    "   I understand that an allegation of Student General Misconduct may arise\n",
    "   regardless of whether or not I personally make use of such solutions\n",
    "   or sought benefit from such actions.\n",
    "\n",
    "   <b>Signed by</b>: Hao Xu 1224853\n",
    "   \n",
    "   <b>Dated</b>: 04/04/2023"
   ]
  }
 ],
 "metadata": {
  "kernelspec": {
   "display_name": "Python 3 (ipykernel)",
   "language": "python",
   "name": "python3"
  },
  "language_info": {
   "codemirror_mode": {
    "name": "ipython",
    "version": 3
   },
   "file_extension": ".py",
   "mimetype": "text/x-python",
   "name": "python",
   "nbconvert_exporter": "python",
   "pygments_lexer": "ipython3",
   "version": "3.9.16"
  }
 },
 "nbformat": 4,
 "nbformat_minor": 5
}
