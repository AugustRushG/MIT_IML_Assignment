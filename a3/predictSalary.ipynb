{
 "cells": [
  {
   "attachments": {},
   "cell_type": "markdown",
   "metadata": {},
   "source": [
    "Import necessary libraries"
   ]
  },
  {
   "cell_type": "code",
   "execution_count": 47,
   "metadata": {},
   "outputs": [],
   "source": [
    "import numpy as np\n",
    "import pandas as pd\n",
    "import matplotlib.pyplot as plt\n",
    "from sklearn.model_selection import train_test_split\n",
    "from sklearn.metrics import mean_squared_error\n",
    "from sklearn.linear_model import LinearRegression\n",
    "from sklearn.neighbors import KNeighborsRegressor\n",
    "from sklearn.tree import DecisionTreeRegressor"
   ]
  },
  {
   "attachments": {},
   "cell_type": "markdown",
   "metadata": {},
   "source": [
    "import both train data and test data "
   ]
  },
  {
   "cell_type": "code",
   "execution_count": 43,
   "metadata": {},
   "outputs": [],
   "source": [
    "raw_train_data = pd.read_csv('C:\\\\Users\\\\xu741\\\\Desktop\\\\IML\\\\a1\\\\a3\\\\raw-data\\\\train.csv')\n",
    "raw_test_data = pd.read_csv('C:\\\\Users\\\\xu741\\\\Desktop\\\\IML\\\\a1\\\\a3\\\\raw-data\\\\test.csv')\n",
    "tlidf_train_data = np.load('C:\\\\Users\\\\xu741\\Desktop\\\\IML\\\\a1\\\\a3\\\\tfidf-data\\\\train-tfidf.npy')\n",
    "tlidf_test_data = np.load('C:\\\\Users\\\\xu741\\\\Desktop\\\\IML\\\\a1\\\\a3\\\\tfidf-data\\\\test-tfidf.npy')\n",
    "embedding_train_data = np.load('C:\\\\Users\\\\xu741\\\\Desktop\\\\IML\\\\a1\\\\a3\\\\embeddings-data\\\\train-embeddings.npy')\n",
    "embedding_test_data = np.load('C:\\\\Users\\\\xu741\\\\Desktop\\\\IML\\\\a1\\\\a3\\\\embeddings-data\\\\test-embeddings.npy')"
   ]
  },
  {
   "attachments": {},
   "cell_type": "markdown",
   "metadata": {},
   "source": [
    "pre data processing "
   ]
  },
  {
   "cell_type": "code",
   "execution_count": 45,
   "metadata": {},
   "outputs": [],
   "source": [
    "# repalce nan with mean value \n",
    "raw_train_data.fillna(raw_train_data.mean(),inplace=True)\n",
    "\n",
    "# convert requirements and role column into bag-of-words representation \n",
    "raw_train_data['requirements_and_role'].fillna('', inplace=True)\n"
   ]
  },
  {
   "attachments": {},
   "cell_type": "markdown",
   "metadata": {},
   "source": [
    "Train data"
   ]
  },
  {
   "cell_type": "code",
   "execution_count": 53,
   "metadata": {},
   "outputs": [
    {
     "name": "stdout",
     "output_type": "stream",
     "text": [
      "mean_squared_error for tlidf using linear regression model is 0.001127649593279153 using decision tree is 0.001891854568518645, using knn is 0.0015760519538627134\n"
     ]
    }
   ],
   "source": [
    "lr = LinearRegression()\n",
    "dt = DecisionTreeRegressor()\n",
    "knn = KNeighborsRegressor(10)\n",
    "\n",
    "X_train_tlidf, y_train_tlidf = tlidf_train_data[:,:-1], tlidf_train_data[:,-1]\n",
    "X_train_embedding,y_train_embedding = embedding_train_data[:,:-1],embedding_train_data[:,-1]\n",
    "\n",
    "X_test_tlidf, y_test_tlidf = tlidf_test_data[:,:-1], tlidf_test_data[:,-1]\n",
    "X_test_embedding, y_test_embedding = embedding_test_data[:,:-1],embedding_test_data[:,-1]\n",
    "\n",
    "# fit model\n",
    "lr.fit(X_train_tlidf,y_train_tlidf)\n",
    "dt.fit(X_train_tlidf,y_train_tlidf)\n",
    "knn.fit(X_train_tlidf,y_train_tlidf) \n",
    "\n",
    "# get predictions\n",
    "y_pred_tlidf_lr = lr.predict(X_test_tlidf)\n",
    "y_pred_tlidf_dt = dt.predict(X_test_tlidf)\n",
    "y_pred_tlidf_knn = knn.predict(X_test_tlidf)\n",
    "\n",
    "#get error rate \n",
    "mse_tlidf_lr = mean_squared_error(y_pred=y_pred_tlidf_lr,y_true=y_test_tlidf)\n",
    "mse_tlidf_dt = mean_squared_error(y_pred=y_pred_tlidf_dt,y_true=y_test_tlidf)\n",
    "mse_tlidf_knn = mean_squared_error(y_pred=y_pred_tlidf_knn,y_true=y_test_tlidf)\n",
    "\n",
    "print(\"mean_squared_error for tlidf using linear regression model is {} using decision tree is {}, using knn is {}\".format(mse_tlidf_lr,mse_tlidf_dt,mse_tlidf_knn))\n"
   ]
  }
 ],
 "metadata": {
  "kernelspec": {
   "display_name": "py39",
   "language": "python",
   "name": "python3"
  },
  "language_info": {
   "codemirror_mode": {
    "name": "ipython",
    "version": 3
   },
   "file_extension": ".py",
   "mimetype": "text/x-python",
   "name": "python",
   "nbconvert_exporter": "python",
   "pygments_lexer": "ipython3",
   "version": "3.9.16"
  },
  "orig_nbformat": 4
 },
 "nbformat": 4,
 "nbformat_minor": 2
}
