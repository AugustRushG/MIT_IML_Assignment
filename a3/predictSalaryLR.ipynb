{
 "cells": [
  {
   "cell_type": "code",
   "execution_count": 88,
   "metadata": {},
   "outputs": [],
   "source": [
    "import numpy as np\n",
    "import pandas as pd\n",
    "import matplotlib.pyplot as plt\n",
    "from sklearn.model_selection import train_test_split, KFold\n",
    "from sklearn.metrics import mean_squared_error, r2_score, accuracy_score, classification_report\n",
    "from sklearn.datasets import make_classification\n",
    "from sklearn.preprocessing import StandardScaler, OneHotEncoder\n",
    "from sentence_transformers import SentenceTransformer, util\n",
    "import torch\n",
    "import warnings\n",
    "warnings.simplefilter(action='ignore', category=Warning)"
   ]
  },
  {
   "cell_type": "code",
   "execution_count": 89,
   "metadata": {},
   "outputs": [],
   "source": [
    "raw_train_data = pd.read_csv('C:\\\\Users\\\\xu741\\\\Desktop\\\\IML\\\\a1\\\\a3\\\\raw-data\\\\train.csv')\n",
    "raw_test_data = pd.read_csv('C:\\\\Users\\\\xu741\\\\Desktop\\\\IML\\\\a1\\\\a3\\\\raw-data\\\\test.csv')\n",
    "raw_valid_data = pd.read_csv('C:\\\\Users\\\\xu741\\\\Desktop\\\\IML\\\\a1\\\\a3\\\\raw-data\\\\valid.csv')\n",
    "\n",
    "sentenceTransformer = SentenceTransformer('distilbert-base-nli-stsb-mean-tokens')"
   ]
  },
  {
   "attachments": {},
   "cell_type": "markdown",
   "metadata": {},
   "source": [
    "Now we embed the data with sentencecTransformer"
   ]
  },
  {
   "cell_type": "code",
   "execution_count": 90,
   "metadata": {},
   "outputs": [],
   "source": [
    "# # repalce nan with mean value \n",
    "# raw_train_data.fillna(raw_train_data.mean(),inplace=True)\n",
    "\n",
    "# # convert requirements and role column into bag-of-words representation \n",
    "# raw_train_data['requirements_and_role'].fillna('', inplace=True)\n",
    "\n",
    "# sepearte labeled data and unlableled\n",
    "\n",
    "bins = [-float('inf'), 0, 1, 2, 3, 4, 5, 6, 7, 8, float('inf')]\n",
    "labels = ['0', '1', '2', '3', '4', '5', '6', '7', '8', '9']\n",
    "\n",
    "raw_train_data['salary_bin_cat'] = pd.cut(raw_train_data['salary_bin'], bins=bins, labels=labels)\n",
    "raw_valid_data['salary_bin_cat'] = pd.cut(raw_valid_data['salary_bin'], bins=bins, labels=labels)\n",
    "\n",
    "raw_train_X = raw_train_data['requirements_and_role']\n",
    "raw_valid_X = raw_valid_data['requirements_and_role']\n",
    "\n",
    "# embedded_raw_train_X = sentenceTransformer.encode(raw_train_X)\n",
    "# embedded_raw_valid_X = sentenceTransformer.encode(raw_valid_X)\n",
    "# embedded_raw_test_X = sentenceTransformer.encode(raw_test_X)\n",
    "embedded_raw_train_X = np.load('C:\\\\Users\\\\xu741\\\\Desktop\\\\IML\\\\a1\\\\a3\\\\raw-data\\\\embedded_raw_train_X.npy')\n",
    "embedded_raw_valid_X = np.load('C:\\\\Users\\\\xu741\\\\Desktop\\\\IML\\\\a1\\\\a3\\\\raw-data\\\\embedded_raw_valid_X.npy')\n",
    "embedded_raw_test_X = np.load('C:\\\\Users\\\\xu741\\\\Desktop\\\\IML\\\\a1\\\\a3\\\\raw-data\\\\embedded_raw_test_X.npy')\n",
    "\n",
    "\n",
    "# get categorical data \n",
    "salary_bin_raw_train = raw_train_data['salary_bin_cat']\n",
    "salary_bin_raw_valid = raw_valid_data['salary_bin_cat']\n",
    "\n",
    "# get Target labels and untarget labels for train data \n",
    "labeled_train_data_y = salary_bin_raw_train[:8000]\n",
    "unlabeled_train_data_y = salary_bin_raw_train[-5902:]\n",
    "labeled_embedded_raw_train_X = embedded_raw_train_X[:8000]\n",
    "unlabeled_embedded_raw_train_X = embedded_raw_train_X[-5902:]\n",
    "\n",
    "\n",
    "X_valid_raw = raw_valid_data['requirements_and_role']\n",
    "y_valid = salary_bin_raw_valid"
   ]
  },
  {
   "attachments": {},
   "cell_type": "markdown",
   "metadata": {},
   "source": [
    "Define functions for replace synonyms for embedde data"
   ]
  },
  {
   "cell_type": "code",
   "execution_count": 91,
   "metadata": {},
   "outputs": [],
   "source": [
    "def replace_synonyms(embedded_text, p=0.1):\n",
    "    augmented_text = []\n",
    "    augmented_features = []\n",
    "    for vec in embedded_text:\n",
    "        if np.random.rand() < p:\n",
    "            # Find top k+1 most similar vectors and exclude the original vector\n",
    "            similar_vecs = get_nearest_neighbors(torch.tensor(vec), torch.tensor(embedded_text), k=2)\n",
    "            if len(similar_vecs) > 0:\n",
    "                candidates = [sv['embedding'].numpy() for sv in similar_vecs if not np.array_equal(sv['embedding'].numpy(), vec)]\n",
    "                if len(candidates) > 0:\n",
    "                    new_vec = np.random.randn(*vec.shape)\n",
    "                    augmented_text.append(np.array(candidates)[np.random.randint(len(candidates))] + new_vec)\n",
    "                    augmented_features.append(vec)\n",
    "                else:\n",
    "                    augmented_text.append(vec)\n",
    "                    augmented_features.append(vec)\n",
    "            else:\n",
    "                augmented_text.append(vec)\n",
    "                augmented_features.append(vec)\n",
    "        else:\n",
    "            augmented_text.append(vec)\n",
    "            augmented_features.append(vec)\n",
    "    return np.array(augmented_text), np.array(augmented_features)\n",
    "\n",
    "def get_nearest_neighbors(vec, candidates, k=10):\n",
    "    cosine_scores = util.pytorch_cos_sim(vec, candidates)[0]\n",
    "    topk = torch.topk(cosine_scores, k=k+1)\n",
    "    return [{'embedding': candidates[idx], 'score': score} for idx, score in zip(topk.indices.tolist(), topk.values.tolist())]"
   ]
  },
  {
   "attachments": {},
   "cell_type": "markdown",
   "metadata": {},
   "source": [
    "Replace some data, then add into the total data"
   ]
  },
  {
   "cell_type": "code",
   "execution_count": 92,
   "metadata": {},
   "outputs": [
    {
     "name": "stdout",
     "output_type": "stream",
     "text": [
      "(8000, 768)\n"
     ]
    }
   ],
   "source": [
    "# Augment the labeled training data using synonym replacement\n",
    "print(labeled_embedded_raw_train_X.shape)\n",
    "# augmented_train_data_X = replace_synonyms(labeled_embedded_raw_train_X)\n",
    "augmented_train_data_X =  np.load('C:\\\\Users\\\\xu741\\\\Desktop\\\\IML\\\\a1\\\\a3\\\\raw-data\\\\augmented_train_data_X.npy')\n",
    "augmented_train_data_y = labeled_train_data_y"
   ]
  },
  {
   "cell_type": "code",
   "execution_count": 93,
   "metadata": {},
   "outputs": [
    {
     "name": "stdout",
     "output_type": "stream",
     "text": [
      "(8000, 768)\n",
      "(8000, 768)\n",
      "False\n",
      "Total difference: 497467.58310141426\n",
      "Mean difference: 0.08096803110374581\n"
     ]
    }
   ],
   "source": [
    "# np.save('augmented_train_data_X.npy', augmented_train_data_X)\n",
    "\n",
    "# files.download('augmented_train_data_X.npy')\n",
    "print(augmented_train_data_X[0].shape)\n",
    "print(labeled_embedded_raw_train_X.shape)\n",
    "print(np.array_equal(augmented_train_data_X[0],labeled_embedded_raw_train_X))\n",
    "diff = np.abs(augmented_train_data_X[0] - labeled_embedded_raw_train_X)\n",
    "print(\"Total difference:\", np.sum(diff))\n",
    "print(\"Mean difference:\", np.mean(diff))"
   ]
  },
  {
   "attachments": {},
   "cell_type": "markdown",
   "metadata": {},
   "source": [
    "Plot graph to show the difference between original and augmented data"
   ]
  },
  {
   "cell_type": "code",
   "execution_count": null,
   "metadata": {},
   "outputs": [],
   "source": [
    "# Plot histogram of differences\n",
    "plt.hist(diff.flatten(), bins=50)\n",
    "plt.xlabel(\"Difference\")\n",
    "plt.ylabel(\"Frequency\")\n",
    "plt.title(\"Histogram of differences between original and augmented data\")\n",
    "plt.show()"
   ]
  },
  {
   "cell_type": "code",
   "execution_count": 94,
   "metadata": {},
   "outputs": [],
   "source": [
    "# Combine the original and augmented training data\n",
    "\n",
    "combined_train_data_X = np.concatenate((labeled_embedded_raw_train_X, augmented_train_data_X[0]), axis=0)\n",
    "combined_train_data_y = np.concatenate((labeled_train_data_y, augmented_train_data_y), axis=0)"
   ]
  },
  {
   "attachments": {},
   "cell_type": "markdown",
   "metadata": {},
   "source": [
    "Scaler the dataset"
   ]
  },
  {
   "cell_type": "code",
   "execution_count": 95,
   "metadata": {},
   "outputs": [
    {
     "name": "stdout",
     "output_type": "stream",
     "text": [
      "(16000, 768)\n",
      "(1737, 768)\n"
     ]
    }
   ],
   "source": [
    "print(combined_train_data_X.shape)\n",
    "print(embedded_raw_valid_X.shape)\n",
    "\n",
    "scaler = StandardScaler()\n",
    "combined_train_data_X = scaler.fit_transform(combined_train_data_X)\n",
    "X_valid_embedding = scaler.transform(embedded_raw_valid_X)\n",
    "X_test_embedding = scaler.transform(embedded_raw_test_X)\n",
    "unlabeled_embedded_raw_train_X = scaler.transform(unlabeled_embedded_raw_train_X)\n",
    "\n",
    "combined_train_data_X = np.hstack((np.ones((combined_train_data_X.shape[0], 1)), combined_train_data_X))\n",
    "X_valid_embedding = np.hstack((np.ones((X_valid_embedding.shape[0], 1)), X_valid_embedding))\n",
    "X_test_embedding = np.hstack((np.ones((X_test_embedding.shape[0], 1)), X_test_embedding))\n",
    "unlabeled_embedded_raw_train_X = np.hstack((np.ones((unlabeled_embedded_raw_train_X.shape[0], 1)), unlabeled_embedded_raw_train_X))\n"
   ]
  },
  {
   "attachments": {},
   "cell_type": "markdown",
   "metadata": {},
   "source": [
    "Define some models"
   ]
  },
  {
   "cell_type": "code",
   "execution_count": 96,
   "metadata": {},
   "outputs": [],
   "source": [
    "from sklearn.linear_model import LogisticRegression\n",
    "from sklearn.ensemble import RandomForestClassifier\n",
    "from sklearn.naive_bayes import GaussianNB\n",
    "from sklearn.svm import SVC\n",
    "from sklearn.neighbors import KNeighborsClassifier\n",
    "lr = LogisticRegression(max_iter=5000)\n",
    "knn = KNeighborsClassifier()\n",
    "gnb = GaussianNB()\n",
    "rf = RandomForestClassifier()\n",
    "svc = SVC()\n",
    "kf = KFold(n_splits=5, shuffle=True, random_state=42)\n",
    "\n",
    "models_optimize = {\n",
    "    'lr': {\n",
    "        'estimator': lr,\n",
    "        'param_grid': {\n",
    "            'penalty': ['l2','none'],\n",
    "            'C': [0.01, 0.1, 1, 10, 100],\n",
    "            'solver': ['newton-cg', 'lbfgs', 'sag', 'saga'],\n",
    "            'max_iter': [50, 100, 200, 500, 1000]\n",
    "        }\n",
    "    },\n",
    "    'gnb': {\n",
    "        'estimator': gnb,\n",
    "        'param_grid': {\n",
    "            'var_smoothing': np.logspace(-15, -5, 200)\n",
    "        }\n",
    "    },\n",
    "    'knn': {\n",
    "        'estimator': knn,\n",
    "        'param_grid': {\n",
    "            'n_neighbors': range(1,20),\n",
    "            'weights': ['uniform', 'distance'],\n",
    "            'metric': ['euclidean', 'manhattan', 'minkowski']\n",
    "        }\n",
    "    },\n",
    "    'rf': {\n",
    "        'estimator': rf,\n",
    "        'param_grid': {\n",
    "            'n_estimators': [50, 100, 200, 500, 1000],\n",
    "            'max_features': ['sqrt', 'log2'],\n",
    "            'max_depth': [None, 5, 10, 20, 30],\n",
    "            'min_samples_leaf': [1, 2, 4, 8]\n",
    "        }\n",
    "    },\n",
    "    'svc': {\n",
    "        'estimator': svc,\n",
    "        'param_grid': {\n",
    "            'C': [0.001, 0.01, 0.1, 1, 10, 100],\n",
    "            'kernel': ['linear','poly', 'rbf', 'sigmoid'],\n",
    "            'degree': [0, 1, 2, 3, 4, 5, 6],\n",
    "            'probability': [True]\n",
    "        }\n",
    "    }\n",
    "}"
   ]
  },
  {
   "attachments": {},
   "cell_type": "markdown",
   "metadata": {},
   "source": [
    "Tune the hyperparameters using random search"
   ]
  },
  {
   "cell_type": "code",
   "execution_count": 97,
   "metadata": {},
   "outputs": [
    {
     "name": "stdout",
     "output_type": "stream",
     "text": [
      "Best parameters for lr: {'solver': 'sag', 'penalty': 'l2', 'max_iter': 500, 'C': 0.1}\n",
      "Best CV score for lr: 0.187\n",
      "Best parameters for gnb: {'var_smoothing': 5.94113398496504e-11}\n",
      "Best CV score for gnb: 0.227\n",
      "Best parameters for knn: {'weights': 'uniform', 'n_neighbors': 17, 'metric': 'manhattan'}\n",
      "Best CV score for knn: 0.208\n",
      "Best parameters for rf: {'n_estimators': 500, 'min_samples_leaf': 2, 'max_features': 'sqrt', 'max_depth': 20}\n",
      "Best CV score for rf: 0.233\n",
      "Best parameters for svc: {'probability': True, 'kernel': 'linear', 'degree': 6, 'C': 0.001}\n",
      "Best CV score for svc: 0.224\n"
     ]
    }
   ],
   "source": [
    "from sklearn.model_selection import RandomizedSearchCV\n",
    "\n",
    "for model_name, model_data in models_optimize.items():\n",
    "    rs = RandomizedSearchCV(\n",
    "        model_data['estimator'], \n",
    "        param_distributions=model_data['param_grid'], \n",
    "        cv=kf, \n",
    "        n_iter=20,  \n",
    "        n_jobs=-1, \n",
    "        random_state=42\n",
    "    )\n",
    "    rs.fit(X_valid_embedding, y_valid)\n",
    "    print(f\"Best parameters for {model_name}: {rs.best_params_}\")\n",
    "    print(f\"Best CV score for {model_name}: {rs.best_score_:.3f}\")\n",
    "    \n",
    "    # Update the model with the best parameters\n",
    "    model_data['estimator'] = rs.best_estimator_"
   ]
  },
  {
   "attachments": {},
   "cell_type": "markdown",
   "metadata": {},
   "source": [
    "Train model using combined dataset"
   ]
  },
  {
   "cell_type": "code",
   "execution_count": 98,
   "metadata": {},
   "outputs": [
    {
     "name": "stdout",
     "output_type": "stream",
     "text": [
      "LogisticRegression(C=0.1, max_iter=500, solver='sag')\n",
      "GaussianNB(var_smoothing=5.94113398496504e-11)\n",
      "KNeighborsClassifier(metric='manhattan', n_neighbors=17)\n",
      "RandomForestClassifier(max_depth=20, min_samples_leaf=2, n_estimators=500)\n",
      "SVC(C=0.001, degree=6, kernel='linear', probability=True)\n",
      "LogisticRegression(C=0.1, max_iter=500, solver='sag')\n",
      "GaussianNB(var_smoothing=5.94113398496504e-11)\n",
      "KNeighborsClassifier(metric='manhattan', n_neighbors=17)\n",
      "RandomForestClassifier(max_depth=20, min_samples_leaf=2, n_estimators=500)\n",
      "SVC(C=0.001, degree=6, kernel='linear', probability=True)\n",
      "LogisticRegression(C=0.1, max_iter=500, solver='sag')\n",
      "GaussianNB(var_smoothing=5.94113398496504e-11)\n",
      "KNeighborsClassifier(metric='manhattan', n_neighbors=17)\n",
      "RandomForestClassifier(max_depth=20, min_samples_leaf=2, n_estimators=500)\n",
      "SVC(C=0.001, degree=6, kernel='linear', probability=True)\n",
      "LogisticRegression(C=0.1, max_iter=500, solver='sag')\n",
      "GaussianNB(var_smoothing=5.94113398496504e-11)\n",
      "KNeighborsClassifier(metric='manhattan', n_neighbors=17)\n",
      "RandomForestClassifier(max_depth=20, min_samples_leaf=2, n_estimators=500)\n",
      "SVC(C=0.001, degree=6, kernel='linear', probability=True)\n"
     ]
    }
   ],
   "source": [
    "X_train_embedding, y_train_embedding = combined_train_data_X, combined_train_data_y\n",
    "\n",
    "accuracies = {'lr': [], 'gnb': [], 'knn': [], 'rf': [], 'svc': []}\n",
    "\n",
    "for i, (train_index, test_index) in enumerate(kf.split(X_train_embedding)):\n",
    "\n",
    "    X_train, X_test = X_train_embedding[train_index], X_train_embedding[test_index]\n",
    "    y_train, y_test = y_train_embedding[train_index], y_train_embedding[test_index]\n",
    "\n",
    "    for model_name, model_data in models_optimize.items():\n",
    "        model = model_data['estimator']\n",
    "        print(model)\n",
    "        model.fit(X_train, y_train)\n",
    "        y_pred = model.predict(X_test)\n",
    "        accuracy = accuracy_score(y_test, y_pred)\n",
    "        accuracies[model_name].append(accuracy)\n",
    "\n",
    "\n",
    "avg_accuracy_embedding_lr = np.mean(accuracies['lr'])\n",
    "avg_accuracy_embedding_gnb = np.mean(accuracies['gnb'])\n",
    "avg_accuracy_embedding_knn = np.mean(accuracies['knn'])\n",
    "avg_accuracy_embedding_rf = np.mean(accuracies['rf'])\n",
    "avg_accuracy_embedding_svc = np.mean(accuracies['svc'])"
   ]
  },
  {
   "attachments": {},
   "cell_type": "markdown",
   "metadata": {},
   "source": [
    "Plot graphs"
   ]
  },
  {
   "cell_type": "code",
   "execution_count": null,
   "metadata": {},
   "outputs": [
    {
     "name": "stdout",
     "output_type": "stream",
     "text": [
      "Average accuracies:\n",
      "Logistic Regression:  0.2955\n",
      "Gaussian Naive Bayes:  0.22368749999999998\n",
      "K-Nearest Neighbors:  0.28231249999999997\n",
      "Random Forest:  0.8166249999999999\n",
      "Support Vector Machine:  0.8489374999999999\n"
     ]
    },
    {
     "data": {
      "image/png": "[encoded data removed]",
      "text/plain": [
       "<Figure size 640x480 with 1 Axes>"
      ]
     },
     "metadata": {},
     "output_type": "display_data"
    }
   ],
   "source": [
    "# Print average accuracies\n",
    "print(\"Average accuracies:\")\n",
    "print(\"Logistic Regression: \", avg_accuracy_embedding_lr)\n",
    "print(\"Gaussian Naive Bayes: \", avg_accuracy_embedding_gnb)\n",
    "print(\"K-Nearest Neighbors: \", avg_accuracy_embedding_knn)\n",
    "print(\"Random Forest: \", avg_accuracy_embedding_rf)\n",
    "print(\"Support Vector Machine: \", avg_accuracy_embedding_svc)\n",
    "\n",
    "# Create a bar plot\n",
    "models_str = ['LR', 'GNB', 'KNN', 'RF', 'SVC']\n",
    "accuracies = [avg_accuracy_embedding_lr, avg_accuracy_embedding_gnb, avg_accuracy_embedding_knn, \n",
    "              avg_accuracy_embedding_rf, avg_accuracy_embedding_svc]\n",
    "plt.bar(models_str, accuracies, color=['blue', 'red', 'green', 'purple', 'orange'])\n",
    "plt.title('Average Accuracies of Different Models(Embedding)')\n",
    "plt.xlabel('Models')\n",
    "plt.ylabel('Accuracy')\n",
    "plt.ylim(0,1)\n",
    "for i, acc in enumerate(accuracies):\n",
    "    plt.text(i, acc+0.02, f\"{acc*100:.2f}%\", ha='center')\n",
    "plt.show()"
   ]
  },
  {
   "attachments": {},
   "cell_type": "markdown",
   "metadata": {},
   "source": [
    "Define functions to test on valdiation dataset and get resutls on test dataset"
   ]
  },
  {
   "cell_type": "code",
   "execution_count": null,
   "metadata": {},
   "outputs": [],
   "source": [
    "def test_prediction(model):\n",
    "    y_pred = model.predict(X_valid_embedding)\n",
    "    accuracy = accuracy_score(y_valid,y_pred)\n",
    "    return accuracy\n"
   ]
  },
  {
   "cell_type": "code",
   "execution_count": null,
   "metadata": {},
   "outputs": [],
   "source": [
    "# Initialize lists to store accuracy scores and model names\n",
    "accuracies_valid = {'lr': [], 'gnb': [], 'knn': [], 'rf': [], 'svc': []}\n",
    "for model_name, model_data in models_optimize.items():\n",
    "        model = model_data['estimator']\n",
    "        accuracies_valid[model_name].append(test_prediction(model))\n",
    "        "
   ]
  },
  {
   "cell_type": "code",
   "execution_count": null,
   "metadata": {},
   "outputs": [
    {
     "data": {
      "image/png": "[encoded data removed]",
      "text/plain": [
       "<Figure size 640x480 with 1 Axes>"
      ]
     },
     "metadata": {},
     "output_type": "display_data"
    }
   ],
   "source": [
    "# Define the x-axis labels\n",
    "labels = ['LR', 'GNB', 'KNN', 'RF', 'SVC']\n",
    "\n",
    "# Extract the validation accuracies for each model\n",
    "accuracies = [accuracies_valid['lr'][0], accuracies_valid['gnb'][0], accuracies_valid['knn'][0], accuracies_valid['rf'][0], accuracies_valid['svc'][0]]\n",
    "\n",
    "# Create a bar plot of the validation accuracies\n",
    "fig, ax = plt.subplots()\n",
    "ax.bar(labels, accuracies)\n",
    "ax.set_ylabel('Accuracy')\n",
    "ax.set_title('Validation Accuracies')\n",
    "\n",
    "# Add the percentage values above each bar\n",
    "for i, acc in enumerate(accuracies):\n",
    "    ax.text(i, acc+0.01, f'{acc*100:.2f}%', ha='center', fontsize=10)\n",
    "\n",
    "plt.show()\n"
   ]
  },
  {
   "cell_type": "code",
   "execution_count": null,
   "metadata": {},
   "outputs": [],
   "source": [
    "def predict_test(model):\n",
    "    y_pred = model.predict(X_test_embedding)\n",
    "    results_df = pd.DataFrame({\n",
    "    'job_id': raw_test_data['job_id'],\n",
    "    'salary_bin': y_pred\n",
    "    })\n",
    "    results_df.to_csv('{}results.csv'.format(model), index=False)"
   ]
  },
  {
   "cell_type": "code",
   "execution_count": null,
   "metadata": {},
   "outputs": [
    {
     "name": "stdout",
     "output_type": "stream",
     "text": [
      "RandomForestClassifier(max_depth=30, min_samples_leaf=8, n_estimators=200)\n"
     ]
    }
   ],
   "source": [
    "print(models_optimize['rf']['estimator'])\n",
    "predict_test(models_optimize['rf']['estimator'])"
   ]
  },
  {
   "attachments": {},
   "cell_type": "markdown",
   "metadata": {},
   "source": [
    "Define varaiables for active learning"
   ]
  },
  {
   "cell_type": "code",
   "execution_count": null,
   "metadata": {},
   "outputs": [],
   "source": [
    "import warnings\n",
    "warnings.simplefilter(action='ignore', category=Warning)\n",
    "from scipy.stats import mode\n",
    "\n",
    "models = { 'gnb': models_optimize['gnb']['estimator'], 'knn': models_optimize['knn']['estimator'], 'rf': models_optimize['rf']['estimator'], 'svc': models_optimize['svc']['estimator']}\n",
    "unlabeled_preds = {model: [] for model in models}\n",
    "\n",
    "# Split data into labeled and unlabeled sets\n",
    "X_labeled, X_unlabeled, y_labeled, y_unlabeled = combined_train_data_X, unlabeled_embedded_raw_train_X, combined_train_data_y, unlabeled_train_data_y\n",
    "\n",
    "# Choose a pool of unlabeled data to query from\n",
    "X_pool = unlabeled_embedded_raw_train_X\n",
    "\n",
    "batch_size = 1000"
   ]
  },
  {
   "attachments": {},
   "cell_type": "markdown",
   "metadata": {},
   "source": [
    "Active learning"
   ]
  },
  {
   "cell_type": "code",
   "execution_count": null,
   "metadata": {},
   "outputs": [
    {
     "name": "stdout",
     "output_type": "stream",
     "text": [
      "Query 1/5\n",
      "labeled data size before 16000 labeled training data y length before 16000\n",
      "labeled data size after 17000 labeled training data y length before 17000\n",
      "Query 2/5\n",
      "labeled data size before 17000 labeled training data y length before 17000\n",
      "labeled data size after 18000 labeled training data y length before 18000\n",
      "Query 3/5\n",
      "labeled data size before 18000 labeled training data y length before 18000\n",
      "labeled data size after 19000 labeled training data y length before 19000\n",
      "Query 4/5\n",
      "labeled data size before 19000 labeled training data y length before 19000\n",
      "labeled data size after 20000 labeled training data y length before 20000\n",
      "Query 5/5\n",
      "labeled data size before 20000 labeled training data y length before 20000\n",
      "labeled data size after 21000 labeled training data y length before 21000\n"
     ]
    }
   ],
   "source": [
    "# Active learning loop\n",
    "num_queries = int(len(X_unlabeled) / batch_size)\n",
    "for i in range(num_queries):\n",
    "    print(f\"Query {i+1}/{num_queries}\")\n",
    "    \n",
    "    # Compute committee disagreement for each batch of unlabeled data points\n",
    "    start_idx = i * batch_size\n",
    "    end_idx = start_idx + batch_size\n",
    "    batch_X_pool = X_pool[start_idx:end_idx]\n",
    "    disagreements = []\n",
    "\n",
    "    for x in batch_X_pool:\n",
    "        preds = []\n",
    "        for modelName, model in models.items():\n",
    "            preds.append(model.predict(x.reshape(1, -1))[0])\n",
    "        disagreements.append(1 - mode(preds)[1] / len(models))\n",
    "        \n",
    "    # Select the top k unlabeled data points with the highest disagreement\n",
    "    k = min(batch_size, len(X_pool))\n",
    "    query_idxs = np.argsort(disagreements)[-k:]\n",
    "    query_X = X_pool[query_idxs]\n",
    "\n",
    "    query_X = query_X.reshape(batch_size*query_X.shape[1],query_X.shape[-1])\n",
    "    \n",
    "    query_preds = []\n",
    "    for modelName, model in models.items():\n",
    "        query_preds.append(model.predict(query_X))\n",
    "    query_y = mode(np.vstack(query_preds))[0]\n",
    "    \n",
    "    # Add queried point to labeled data\n",
    "    print(\"labeled data size before {} labeled training data y length before {}\".format(X_labeled.shape[0], y_labeled.shape[0]))\n",
    "    X_labeled = np.vstack((X_labeled, query_X))\n",
    "    y_labeled = np.concatenate([y_labeled, np.squeeze(query_y)])\n",
    "    print(\"labeled data size after {} labeled training data y length before {}\".format(X_labeled.shape[0], y_labeled.shape[0]))\n",
    "    \n",
    "    # Remove queried point from unlabeled data pool\n",
    "    X_pool = np.delete(X_pool, query_idxs, axis=0)\n",
    "    \n",
    "    # Re-train each model on the updated labeled data\n",
    "    for modelName, model in models.items():\n",
    "        model.fit(X_labeled, y_labeled)\n",
    "    \n",
    "    # Compute unlabeled predictions for each model on the updated unlabeled data pool\n",
    "    for modelName, model in models.items():\n",
    "        preds = model.predict(X_pool)\n",
    "        unlabeled_preds[modelName].append(preds)"
   ]
  },
  {
   "cell_type": "code",
   "execution_count": null,
   "metadata": {},
   "outputs": [],
   "source": [
    "accuracies = {'lr': [], 'gnb': [], 'knn': [], 'rf': [], 'svc': []}\n",
    "\n",
    "for i, (train_index, test_index) in enumerate(kf.split(X_labeled)):\n",
    "\n",
    "    X_train, X_test = X_labeled[train_index], X_labeled[test_index]\n",
    "    y_train, y_test = y_labeled[train_index], y_labeled[test_index]\n",
    "\n",
    "    for modelName, model in models.items():\n",
    "        model.fit(X_train, y_train)\n",
    "        y_pred = model.predict(X_test)\n",
    "        accuracy = accuracy_score(y_test, y_pred)\n",
    "        accuracies[modelName].append(accuracy)\n",
    "\n",
    "\n",
    "avg_accuracy_embedding_lr = np.mean(accuracies['lr'])\n",
    "avg_accuracy_embedding_gnb = np.mean(accuracies['gnb'])\n",
    "avg_accuracy_embedding_knn = np.mean(accuracies['knn'])\n",
    "avg_accuracy_embedding_rf = np.mean(accuracies['rf'])\n",
    "avg_accuracy_embedding_svc = np.mean(accuracies['svc'])"
   ]
  },
  {
   "cell_type": "code",
   "execution_count": null,
   "metadata": {},
   "outputs": [
    {
     "name": "stderr",
     "output_type": "stream",
     "text": [
      "posx and posy should be finite values\n",
      "posx and posy should be finite values\n",
      "posx and posy should be finite values\n",
      "posx and posy should be finite values\n",
      "posx and posy should be finite values\n",
      "posx and posy should be finite values\n",
      "posx and posy should be finite values\n",
      "posx and posy should be finite values\n"
     ]
    },
    {
     "name": "stdout",
     "output_type": "stream",
     "text": [
      "Average accuracies:\n",
      "Logistic Regression:  nan\n",
      "Gaussian Naive Bayes:  nan\n",
      "K-Nearest Neighbors:  nan\n",
      "Random Forest:  nan\n",
      "Support Vector Machine:  0.648809523809524\n"
     ]
    },
    {
     "data": {
      "image/png": "[encoded data removed]",
      "text/plain": [
       "<Figure size 640x480 with 1 Axes>"
      ]
     },
     "metadata": {},
     "output_type": "display_data"
    }
   ],
   "source": [
    "# Print average accuracies\n",
    "print(\"Average accuracies:\")\n",
    "print(\"Logistic Regression: \", avg_accuracy_embedding_lr)\n",
    "print(\"Gaussian Naive Bayes: \", avg_accuracy_embedding_gnb)\n",
    "print(\"K-Nearest Neighbors: \", avg_accuracy_embedding_knn)\n",
    "print(\"Random Forest: \", avg_accuracy_embedding_rf)\n",
    "print(\"Support Vector Machine: \", avg_accuracy_embedding_svc)\n",
    "\n",
    "# Create a bar plot\n",
    "models_str = ['LR', 'GNB', 'KNN', 'RF', 'SVC']\n",
    "accuracies = [avg_accuracy_embedding_lr, avg_accuracy_embedding_gnb, avg_accuracy_embedding_knn, \n",
    "              avg_accuracy_embedding_rf, avg_accuracy_embedding_svc]\n",
    "plt.bar(models_str, accuracies, color=['blue', 'red', 'green', 'purple', 'orange'])\n",
    "plt.title('Average Accuracies of Different Models(Embedding)')\n",
    "plt.xlabel('Models')\n",
    "plt.ylabel('Accuracy')\n",
    "plt.ylim(0,1)\n",
    "for i, acc in enumerate(accuracies):\n",
    "    plt.text(i, acc+0.02, f\"{acc*100:.2f}%\", ha='center')\n",
    "plt.show()"
   ]
  }
 ],
 "metadata": {
  "kernelspec": {
   "display_name": "py39",
   "language": "python",
   "name": "python3"
  },
  "language_info": {
   "codemirror_mode": {
    "name": "ipython",
    "version": 3
   },
   "file_extension": ".py",
   "mimetype": "text/x-python",
   "name": "python",
   "nbconvert_exporter": "python",
   "pygments_lexer": "ipython3",
   "version": "3.9.16"
  },
  "orig_nbformat": 4
 },
 "nbformat": 4,
 "nbformat_minor": 2
}
