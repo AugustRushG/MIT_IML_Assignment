{
 "cells": [
  {
   "cell_type": "code",
   "execution_count": 2,
   "metadata": {},
   "outputs": [],
   "source": [
    "import torch.nn as nn\n",
    "import numpy as np\n",
    "import pandas as pd\n",
    "import matplotlib.pyplot as plt\n",
    "import torch\n"
   ]
  },
  {
   "cell_type": "code",
   "execution_count": 3,
   "metadata": {},
   "outputs": [],
   "source": [
    "raw_train_data = pd.read_csv('C:\\\\Users\\\\xu741\\\\Desktop\\\\IML\\\\a1\\\\a3\\\\raw-data\\\\train.csv')\n",
    "raw_test_data = pd.read_csv('C:\\\\Users\\\\xu741\\\\Desktop\\\\IML\\\\a1\\\\a3\\\\raw-data\\\\test.csv')\n",
    "raw_valid_data = pd.read_csv('C:\\\\Users\\\\xu741\\\\Desktop\\\\IML\\\\a1\\\\a3\\\\raw-data\\\\valid.csv')\n",
    "tfidf_train_data = np.load('C:\\\\Users\\\\xu741\\Desktop\\\\IML\\\\a1\\\\a3\\\\tfidf-data\\\\train-tfidf.npy')\n",
    "tfidf_test_data = np.load('C:\\\\Users\\\\xu741\\\\Desktop\\\\IML\\\\a1\\\\a3\\\\tfidf-data\\\\test-tfidf.npy')\n",
    "tfidf_valid_data = np.load('C:\\\\Users\\\\xu741\\\\Desktop\\\\IML\\\\a1\\\\a3\\\\tfidf-data\\\\valid-tfidf.npy')\n",
    "embedding_train_data = np.load('C:\\\\Users\\\\xu741\\\\Desktop\\\\IML\\\\a1\\\\a3\\\\embeddings-data\\\\train-embeddings.npy')\n",
    "embedding_test_data = np.load('C:\\\\Users\\\\xu741\\\\Desktop\\\\IML\\\\a1\\\\a3\\\\embeddings-data\\\\test-embeddings.npy')\n",
    "embedding_valid_data = np.load('C:\\\\Users\\\\xu741\\\\Desktop\\\\IML\\\\a1\\\\a3\\\\embeddings-data\\\\valid-embeddings.npy')"
   ]
  },
  {
   "attachments": {},
   "cell_type": "markdown",
   "metadata": {},
   "source": [
    "Define LogisticRegression "
   ]
  },
  {
   "cell_type": "code",
   "execution_count": 4,
   "metadata": {},
   "outputs": [],
   "source": [
    "class LogisticRegression(nn.Module):\n",
    "    def __init__(self, input_dim, output_dim):\n",
    "        super(LogisticRegression, self).__init__()\n",
    "        self.linear = nn.Linear(input_dim, output_dim)\n",
    "        \n",
    "    def forward(self, x):\n",
    "        out = self.linear(x)\n",
    "        return out"
   ]
  },
  {
   "cell_type": "code",
   "execution_count": 5,
   "metadata": {},
   "outputs": [],
   "source": [
    "# Define the SVM model\n",
    "class SVM(nn.Module):\n",
    "    def __init__(self):\n",
    "        super(SVM, self).__init__()\n",
    "        self.linear = nn.Linear(num_features, 1)\n",
    "\n",
    "    def forward(self, x):\n",
    "        x = self.linear(x)\n",
    "        return x"
   ]
  },
  {
   "cell_type": "code",
   "execution_count": null,
   "metadata": {},
   "outputs": [],
   "source": [
    "from torch.distributions.multivariate_normal import MultivariateNormal\n",
    "\n",
    "class GaussianNB(torch.nn.Module):\n",
    "    def __init__(self, num_features, num_classes):\n",
    "        super(GaussianNB, self).__init__()\n",
    "        self.num_features = num_features\n",
    "        self.num_classes = num_classes\n",
    "        self.priors = torch.nn.Parameter(torch.zeros(num_classes))\n",
    "        self.posteriors = torch.nn.Parameter(torch.zeros(num_classes, num_features))\n",
    "        self.covariances = torch.nn.Parameter(torch.zeros(num_classes, num_features, num_features))\n",
    "\n",
    "    def forward(self, x):\n",
    "        x = x.unsqueeze(1).repeat(1, self.num_classes, 1)\n",
    "        log_probs = MultivariateNormal(self.posteriors, covariance_matrix=self.covariances).log_prob(x)\n",
    "        log_probs += torch.log_softmax(self.priors, dim=-1).unsqueeze(0).repeat(x.shape[0], 1)\n",
    "        return log_probs.argmax(dim=-1)\n",
    "\n",
    "    def fit(self, x, y):\n",
    "        self.priors.data = torch.log(torch.histc(y, bins=self.num_classes, min=0, max=self.num_classes))\n",
    "        for c in range(self.num_classes):\n",
    "            x_c = x[y == c]\n",
    "            self.posteriors.data[c] = x_c.mean(dim=0)\n",
    "            self.covariances.data[c] = torch.diag(x_c.var(dim=0))\n"
   ]
  }
 ],
 "metadata": {
  "kernelspec": {
   "display_name": "py39",
   "language": "python",
   "name": "python3"
  },
  "language_info": {
   "codemirror_mode": {
    "name": "ipython",
    "version": 3
   },
   "file_extension": ".py",
   "mimetype": "text/x-python",
   "name": "python",
   "nbconvert_exporter": "python",
   "pygments_lexer": "ipython3",
   "version": "3.9.16"
  },
  "orig_nbformat": 4
 },
 "nbformat": 4,
 "nbformat_minor": 2
}
